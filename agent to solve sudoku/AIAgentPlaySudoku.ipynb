{
 "cells": [
  {
   "cell_type": "markdown",
   "metadata": {},
   "source": [
    "# Coding board:"
   ]
  },
  {
   "cell_type": "code",
   "execution_count": 8,
   "metadata": {},
   "outputs": [],
   "source": [
    "rows='ABCDEFGHI'\n",
    "digits='123456789'\n",
    "cols= digits\n",
    "def cross(a,b):\n",
    "    return[s+t for s in a for t in b]"
   ]
  },
  {
   "cell_type": "code",
   "execution_count": 9,
   "metadata": {},
   "outputs": [],
   "source": [
    "boxes=cross(rows,cols)\n",
    "squares=boxes"
   ]
  },
  {
   "cell_type": "code",
   "execution_count": 10,
   "metadata": {},
   "outputs": [],
   "source": [
    "row_units=[cross(r,cols) for r in rows] #a1,a2,a3......,a9\n",
    "column_units=[cross(rows,s) for s in cols]\n",
    "square_units=[cross(rs,cs) for rs in ('ABC','DEF','GHI') for cs in ('123','456','789')]"
   ]
  },
  {
   "cell_type": "code",
   "execution_count": 11,
   "metadata": {},
   "outputs": [],
   "source": [
    "unitlist=row_units+column_units+square_units"
   ]
  },
  {
   "cell_type": "code",
   "execution_count": 12,
   "metadata": {},
   "outputs": [],
   "source": [
    "units = dict((s, [u for u in unitlist if s in u]) \n",
    "             for s in squares)\n",
    "peers = dict((s, set(sum(units[s],[]))-set([s]))\n",
    "             for s in squares)"
   ]
  },
  {
   "cell_type": "code",
   "execution_count": 17,
   "metadata": {},
   "outputs": [],
   "source": [
    "peers=dict(peers)"
   ]
  },
  {
   "cell_type": "markdown",
   "metadata": {},
   "source": [
    "# Adding values to board:"
   ]
  },
  {
   "cell_type": "code",
   "execution_count": 6,
   "metadata": {},
   "outputs": [],
   "source": [
    "def grid_values(grid):\n",
    "  \n",
    "    values = []\n",
    "    all_digits = '123456789'\n",
    "    for c in grid:\n",
    "        if c == '.':\n",
    "            values.append(all_digits)\n",
    "        elif c in all_digits:\n",
    "            values.append(c)\n",
    "    assert len(values) == 81\n",
    "    return dict(zip(boxes, values))"
   ]
  },
  {
   "cell_type": "markdown",
   "metadata": {},
   "source": [
    "# Elimination first strategy:"
   ]
  },
  {
   "cell_type": "code",
   "execution_count": 7,
   "metadata": {},
   "outputs": [],
   "source": [
    " def eliminate(values):\n",
    "    solved_values = [box for box in values.keys() if len(values[box]) == 1]  #print keys that have value\n",
    "    for box in solved_values:\n",
    "        digit = values[box]\n",
    "        for peer in peers[box]:\n",
    "            values[peer] = values[peer].replace(digit,'')\n",
    "    return values\n",
    "\n"
   ]
  },
  {
   "cell_type": "markdown",
   "metadata": {},
   "source": [
    "# Second strategy"
   ]
  },
  {
   "cell_type": "code",
   "execution_count": 8,
   "metadata": {},
   "outputs": [],
   "source": [
    "def only_choice(values):\n",
    "    \" \n",
    "    for unit in unitlist:\n",
    "        for digit in '123456789':\n",
    "            dplaces = [box for box in unit if digit in values[box]]\n",
    "            if len(dplaces) == 1:\n",
    "                values[dplaces[0]] = digit\n",
    "    return values"
   ]
  },
  {
   "cell_type": "markdown",
   "metadata": {},
   "source": [
    "# Constraint Propagation\n"
   ]
  },
  {
   "cell_type": "markdown",
   "metadata": {},
   "source": [
    "#     Reducing puzzle"
   ]
  },
  {
   "cell_type": "code",
   "execution_count": 9,
   "metadata": {},
   "outputs": [],
   "source": [
    "def reduce_puzzle(values):\n",
    "    \"\"\"\n",
    "    Iterate eliminate() and only_choice(). If at some point, there is a box with no available values, return False.\n",
    "    If the sudoku is solved, return the sudoku.\n",
    "    If after an iteration of both functions, the sudoku remains the same, return the sudoku.\n",
    "    Input: A sudoku in dictionary form.\n",
    "    Output: The resulting sudoku in dictionary form.\n",
    "    \"\"\"\n",
    "    stalled = False\n",
    "    while not stalled:\n",
    "        # Check how many boxes have a determined value\n",
    "        solved_values_before = len([box for box in values.keys() if len(values[box]) == 1])\n",
    "        # Use the Eliminate Strategy\n",
    "        values = eliminate(values)\n",
    "        # Use the Only Choice Strategy\n",
    "        values = only_choice(values)\n",
    "        # Check how many boxes have a determined value, to compare\n",
    "        solved_values_after = len([box for box in values.keys() if len(values[box]) == 1])\n",
    "        # If no new values were added, stop the loop.\n",
    "        stalled = solved_values_before == solved_values_after\n",
    "        # Sanity check, return False if there is a box with zero available values:\n",
    "        if len([box for box in values.keys() if len(values[box]) == 0]):\n",
    "            return False\n",
    "    return values"
   ]
  },
  {
   "cell_type": "code",
   "execution_count": 10,
   "metadata": {},
   "outputs": [],
   "source": [
    "def search(values):\n",
    "    \"Using depth-first search and propagation, try all possible values.\"\n",
    "    # First, reduce the puzzle using the previous function\n",
    "    values = reduce_puzzle(values)\n",
    "    if values is False:\n",
    "        return False ## Failed earlier\n",
    "    if all(len(values[s]) == 1 for s in boxes): \n",
    "        return values ## Solved!\n",
    "    # Choose one of the unfilled squares with the fewest possibilities\n",
    "    n,s = min((len(values[s]), s) for s in boxes if len(values[s]) > 1)\n",
    "    # Now use recurrence to solve each one of the resulting sudokus, and \n",
    "    for value in values[s]:\n",
    "        new_sudoku = values.copy()\n",
    "        new_sudoku[s] = value\n",
    "        attempt = search(new_sudoku)\n",
    "        if attempt:\n",
    "            return dict(attempt)\n",
    "        \n"
   ]
  },
  {
   "cell_type": "code",
   "execution_count": 11,
   "metadata": {},
   "outputs": [],
   "source": [
    "def solve_sudoku_awad(grid) :\n",
    "    values = grid_values(grid)\n",
    "    w=search(values)\n",
    "    print(w)\n",
    "    return w\n",
    "    \n"
   ]
  },
  {
   "cell_type": "code",
   "execution_count": 12,
   "metadata": {},
   "outputs": [
    {
     "name": "stdout",
     "output_type": "stream",
     "text": [
      "pygame 2.0.1 (SDL 2.0.14, Python 3.8.3)\n",
      "Hello from the pygame community. https://www.pygame.org/contribute.html\n"
     ]
    }
   ],
   "source": [
    "import sys, os, random, pygame\n",
    "sys.path.append(os.path.join(\"objects\"))\n",
    "import SudokuSquare\n",
    "from utils import *\n",
    "from GameResources import *\n",
    "\n",
    "\n",
    "def play(values, result, history):\n",
    "    assignments = reconstruct(result, history)\n",
    "    pygame.init()\n",
    "\n",
    "    size = width, height = 700, 700\n",
    "    screen = pygame.display.set_mode(size)\n",
    "\n",
    "    background_image = pygame.image.load(\"sudoku-board-bare.jpg\").convert()\n",
    "\n",
    "    clock = pygame.time.Clock()\n",
    "\n",
    "    while True:\n",
    "        pygame.event.pump()\n",
    "        theSquares = []\n",
    "        initXLoc = 0\n",
    "        initYLoc = 0\n",
    "        startX, startY, editable, number = 0, 0, \"N\", 0\n",
    "        for y in range(9):\n",
    "            for x in range(9):\n",
    "                if x in (0, 1, 2):  startX = (x * 57) + 38\n",
    "                if x in (3, 4, 5):  startX = (x * 57) + 99\n",
    "                if x in (6, 7, 8):  startX = (x * 57) + 159\n",
    "\n",
    "                if y in (0, 1, 2):  startY = (y * 57) + 35\n",
    "                if y in (3, 4, 5):  startY = (y * 57) + 100\n",
    "                if y in (6, 7, 8):  startY = (y * 57) + 165\n",
    "                string_number = values[rows[y] + cols[x]]\n",
    "                if len(string_number) > 1 or string_number == '' or string_number == '.':\n",
    "                    number = None\n",
    "                else:\n",
    "                    number = int(string_number)\n",
    "                theSquares.append(SudokuSquare.SudokuSquare(number, startX, startY, editable, x, y))\n",
    "\n",
    "        screen.blit(background_image, (0, 0))\n",
    "        for num in theSquares:\n",
    "            num.draw()\n",
    "\n",
    "        pygame.display.flip()\n",
    "        pygame.display.update()\n",
    "        clock.tick(5)\n",
    "\n",
    "        if len(assignments) == 0:\n",
    "            break\n",
    "        box, value = assignments.pop()\n",
    "        values[box] = value\n",
    "\n",
    "    # leave game showing until closed by user\n",
    "    while True:\n",
    "        for event in pygame.event.get():\n",
    "            if event.type == pygame.QUIT:\n",
    "                pygame.quit()\n",
    "                quit()\n"
   ]
  },
  {
   "cell_type": "code",
   "execution_count": 13,
   "metadata": {},
   "outputs": [
    {
     "name": "stdout",
     "output_type": "stream",
     "text": [
      "    2    123456789123456789|123456789123456789123456789|123456789123456789123456789\n",
      "123456789123456789123456789|123456789123456789    6    |    2    123456789123456789\n",
      "123456789123456789    1    |123456789123456789123456789|123456789    7    123456789\n",
      "---------------------------+---------------------------+---------------------------\n",
      "123456789123456789    6    |123456789123456789    8    |123456789123456789123456789\n",
      "    3    123456789123456789|123456789    9    123456789|123456789123456789    7    \n",
      "123456789123456789123456789|    6    123456789123456789|    4    123456789123456789\n",
      "---------------------------+---------------------------+---------------------------\n",
      "123456789    4    123456789|123456789123456789123456789|    8    123456789123456789\n",
      "123456789123456789    5    |    2    123456789123456789|123456789123456789123456789\n",
      "123456789123456789123456789|123456789123456789123456789|123456789123456789    3    \n",
      "\n",
      "{'A1': '2', 'A2': '3', 'A3': '9', 'A4': '8', 'A5': '7', 'A6': '4', 'A7': '1', 'A8': '5', 'A9': '6', 'B1': '7', 'B2': '5', 'B3': '4', 'B4': '3', 'B5': '1', 'B6': '6', 'B7': '2', 'B8': '9', 'B9': '8', 'C1': '6', 'C2': '8', 'C3': '1', 'C4': '9', 'C5': '5', 'C6': '2', 'C7': '3', 'C8': '7', 'C9': '4', 'D1': '4', 'D2': '7', 'D3': '6', 'D4': '1', 'D5': '2', 'D6': '8', 'D7': '5', 'D8': '3', 'D9': '9', 'E1': '3', 'E2': '1', 'E3': '2', 'E4': '4', 'E5': '9', 'E6': '5', 'E7': '6', 'E8': '8', 'E9': '7', 'F1': '5', 'F2': '9', 'F3': '8', 'F4': '6', 'F5': '3', 'F6': '7', 'F7': '4', 'F8': '1', 'F9': '2', 'G1': '1', 'G2': '4', 'G3': '3', 'G4': '7', 'G5': '6', 'G6': '9', 'G7': '8', 'G8': '2', 'G9': '5', 'H1': '9', 'H2': '6', 'H3': '5', 'H4': '2', 'H5': '8', 'H6': '3', 'H7': '7', 'H8': '4', 'H9': '1', 'I1': '8', 'I2': '2', 'I3': '7', 'I4': '5', 'I5': '4', 'I6': '1', 'I7': '9', 'I8': '6', 'I9': '3'}\n",
      "239|874|156\n",
      "754|316|298\n",
      "681|952|374\n",
      "---+---+---\n",
      "476|128|539\n",
      "312|495|687\n",
      "598|637|412\n",
      "---+---+---\n",
      "143|769|825\n",
      "965|283|741\n",
      "827|541|963\n",
      "\n",
      "We could not visualize your board due to a pygame issue. Not a problem! It is not a requirement.\n"
     ]
    }
   ],
   "source": [
    "if __name__ == \"__main__\":\n",
    "    diag_sudoku_grid = '2.............62....1....7...6..8...3...9...7...6..4...4....8....52.............3'\n",
    "    display(grid2values(diag_sudoku_grid))\n",
    "    result = solve_sudoku_awad(diag_sudoku_grid)\n",
    "    display(result)\n",
    "\n",
    "    try:\n",
    "        import PySudoku\n",
    "        PySudoku.play(grid2values(diag_sudoku_grid), result, history)\n",
    "\n",
    "    except SystemExit:\n",
    "        pass\n",
    "    except:\n",
    "        print('We could not visualize your board due to a pygame issue. Not a problem! It is not a requirement.')"
   ]
  },
  {
   "cell_type": "code",
   "execution_count": null,
   "metadata": {},
   "outputs": [],
   "source": []
  }
 ],
 "metadata": {
  "kernelspec": {
   "display_name": "Python 3",
   "language": "python",
   "name": "python3"
  },
  "language_info": {
   "codemirror_mode": {
    "name": "ipython",
    "version": 3
   },
   "file_extension": ".py",
   "mimetype": "text/x-python",
   "name": "python",
   "nbconvert_exporter": "python",
   "pygments_lexer": "ipython3",
   "version": "3.8.3"
  }
 },
 "nbformat": 4,
 "nbformat_minor": 4
}
